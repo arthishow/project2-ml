{
 "cells": [
  {
   "cell_type": "code",
   "execution_count": 1,
   "metadata": {},
   "outputs": [],
   "source": [
    "%matplotlib inline\n",
    "import numpy as np\n",
    "import matplotlib.pyplot as plt\n",
    "import pandas as pd\n",
    "%load_ext autoreload\n",
    "%autoreload 2"
   ]
  },
  {
   "cell_type": "markdown",
   "metadata": {},
   "source": [
    "# 1. Data Read\n",
    "## 1.1 Create dataframe and clean it"
   ]
  },
  {
   "cell_type": "code",
   "execution_count": 3,
   "metadata": {
    "scrolled": true
   },
   "outputs": [
    {
     "name": "stdout",
     "output_type": "stream",
     "text": [
      "                   Id  Prediction\n",
      "0              r44_c1           4\n",
      "1              r61_c1           3\n",
      "2              r67_c1           4\n",
      "3              r72_c1           3\n",
      "4              r86_c1           5\n",
      "5              r90_c1           4\n",
      "6             r108_c1           3\n",
      "7             r114_c1           3\n",
      "8             r120_c1           2\n",
      "9             r135_c1           5\n",
      "10            r152_c1           4\n",
      "11            r165_c1           3\n",
      "12            r182_c1           3\n",
      "13            r310_c1           3\n",
      "14            r318_c1           1\n",
      "15            r333_c1           3\n",
      "16            r355_c1           2\n",
      "17            r390_c1           4\n",
      "18            r401_c1           4\n",
      "19            r410_c1           2\n",
      "20            r418_c1           3\n",
      "21            r457_c1           2\n",
      "22            r470_c1           4\n",
      "23            r497_c1           3\n",
      "24            r516_c1           3\n",
      "25            r566_c1           3\n",
      "26            r595_c1           2\n",
      "27            r670_c1           3\n",
      "28            r673_c1           4\n",
      "29            r708_c1           1\n",
      "...               ...         ...\n",
      "1176922   r9846_c1000           3\n",
      "1176923   r9855_c1000           4\n",
      "1176924   r9867_c1000           3\n",
      "1176925   r9874_c1000           5\n",
      "1176926   r9875_c1000           3\n",
      "1176927   r9884_c1000           2\n",
      "1176928   r9890_c1000           5\n",
      "1176929   r9904_c1000           5\n",
      "1176930   r9909_c1000           4\n",
      "1176931   r9913_c1000           2\n",
      "1176932   r9922_c1000           3\n",
      "1176933   r9925_c1000           3\n",
      "1176934   r9929_c1000           4\n",
      "1176935   r9936_c1000           2\n",
      "1176936   r9944_c1000           4\n",
      "1176937   r9945_c1000           5\n",
      "1176938   r9949_c1000           4\n",
      "1176939   r9957_c1000           3\n",
      "1176940   r9958_c1000           4\n",
      "1176941   r9960_c1000           3\n",
      "1176942   r9961_c1000           4\n",
      "1176943   r9964_c1000           3\n",
      "1176944   r9968_c1000           5\n",
      "1176945   r9970_c1000           5\n",
      "1176946   r9976_c1000           5\n",
      "1176947   r9990_c1000           4\n",
      "1176948   r9992_c1000           5\n",
      "1176949   r9994_c1000           3\n",
      "1176950   r9997_c1000           4\n",
      "1176951  r10000_c1000           3\n",
      "\n",
      "[1176952 rows x 2 columns]\n"
     ]
    }
   ],
   "source": [
    "data = pd.read_csv('data/data_train.csv')\n",
    "print(data)"
   ]
  },
  {
   "cell_type": "code",
   "execution_count": 4,
   "metadata": {},
   "outputs": [],
   "source": [
    "data1 = data.copy()\n",
    "data2 = data.copy()\n",
    "\n",
    "data1['Id'] = data1['Id'].apply(lambda x: x.split('_')[0])\n",
    "data2['Id'] = data2['Id'].apply(lambda x: x.split('_')[1])\n",
    "data1['user_Id'] = data1['Id'].apply(lambda x: x.replace(\"r\",\"\"))\n",
    "data2['item_Id'] = data2['Id'].apply(lambda x: x.replace(\"c\",\"\"))"
   ]
  },
  {
   "cell_type": "code",
   "execution_count": 5,
   "metadata": {},
   "outputs": [
    {
     "data": {
      "text/html": [
       "<div>\n",
       "<style scoped>\n",
       "    .dataframe tbody tr th:only-of-type {\n",
       "        vertical-align: middle;\n",
       "    }\n",
       "\n",
       "    .dataframe tbody tr th {\n",
       "        vertical-align: top;\n",
       "    }\n",
       "\n",
       "    .dataframe thead th {\n",
       "        text-align: right;\n",
       "    }\n",
       "</style>\n",
       "<table border=\"1\" class=\"dataframe\">\n",
       "  <thead>\n",
       "    <tr style=\"text-align: right;\">\n",
       "      <th></th>\n",
       "      <th>user_Id</th>\n",
       "      <th>item_Id</th>\n",
       "      <th>Prediction</th>\n",
       "    </tr>\n",
       "  </thead>\n",
       "  <tbody>\n",
       "    <tr>\n",
       "      <th>0</th>\n",
       "      <td>44</td>\n",
       "      <td>1</td>\n",
       "      <td>4</td>\n",
       "    </tr>\n",
       "    <tr>\n",
       "      <th>1</th>\n",
       "      <td>61</td>\n",
       "      <td>1</td>\n",
       "      <td>3</td>\n",
       "    </tr>\n",
       "    <tr>\n",
       "      <th>2</th>\n",
       "      <td>67</td>\n",
       "      <td>1</td>\n",
       "      <td>4</td>\n",
       "    </tr>\n",
       "    <tr>\n",
       "      <th>3</th>\n",
       "      <td>72</td>\n",
       "      <td>1</td>\n",
       "      <td>3</td>\n",
       "    </tr>\n",
       "    <tr>\n",
       "      <th>4</th>\n",
       "      <td>86</td>\n",
       "      <td>1</td>\n",
       "      <td>5</td>\n",
       "    </tr>\n",
       "  </tbody>\n",
       "</table>\n",
       "</div>"
      ],
      "text/plain": [
       "  user_Id item_Id  Prediction\n",
       "0      44       1           4\n",
       "1      61       1           3\n",
       "2      67       1           4\n",
       "3      72       1           3\n",
       "4      86       1           5"
      ]
     },
     "execution_count": 5,
     "metadata": {},
     "output_type": "execute_result"
    }
   ],
   "source": [
    "data_final = pd.concat([data1['user_Id'],data2['item_Id'],data1['Prediction']],axis=1)\n",
    "data_final.head()"
   ]
  },
  {
   "cell_type": "markdown",
   "metadata": {},
   "source": [
    "## 1.2 Load custom Surprise Dataset"
   ]
  },
  {
   "cell_type": "code",
   "execution_count": 7,
   "metadata": {},
   "outputs": [],
   "source": [
    "from surprise import NormalPredictor\n",
    "from surprise import Dataset\n",
    "from surprise import Reader\n",
    "from surprise.model_selection import cross_validate\n",
    "from surprise import SVD\n",
    "from surprise import SVDpp\n",
    "from surprise import NMF\n",
    "from surprise import accuracy"
   ]
  },
  {
   "cell_type": "code",
   "execution_count": 9,
   "metadata": {},
   "outputs": [],
   "source": [
    "reader = Reader(rating_scale=(1, 5))\n",
    "data = Dataset.load_from_df(data_final[['user_Id','item_Id', 'Prediction']], reader)"
   ]
  },
  {
   "cell_type": "code",
   "execution_count": 10,
   "metadata": {},
   "outputs": [
    {
     "name": "stdout",
     "output_type": "stream",
     "text": [
      "RMSE: 1.0298\n"
     ]
    },
    {
     "data": {
      "text/plain": [
       "1.0298230457076354"
      ]
     },
     "execution_count": 10,
     "metadata": {},
     "output_type": "execute_result"
    }
   ],
   "source": [
    "#Test loading with a simple SVD based prediction\n",
    "\n",
    "from surprise.model_selection import train_test_split\n",
    "trainset, testset = train_test_split(data, test_size=.25)\n",
    "algo = SVD()\n",
    "algo.fit(trainset)\n",
    "predictions = algo.test(testset)\n",
    "\n",
    "accuracy.rmse(predictions)"
   ]
  },
  {
   "cell_type": "markdown",
   "metadata": {},
   "source": [
    "# 2. SVD Model "
   ]
  },
  {
   "cell_type": "code",
   "execution_count": 196,
   "metadata": {
    "scrolled": false
   },
   "outputs": [
    {
     "name": "stdout",
     "output_type": "stream",
     "text": [
      "1.01748609883\n",
      "{'n_epochs': 10, 'n_factors': 40, 'lr_all': 0.005, 'reg_all': 0.4}\n"
     ]
    }
   ],
   "source": [
    "#first we're going to chose the compare some parameters such as k, learning rate\n",
    "#then we will do a cross_validation analysis\n",
    "\n",
    "from surprise.model_selection import GridSearchCV\n",
    "\n",
    "param_grid = {'n_epochs':[10],'n_factors':[40,50], 'lr_all': [0.005],\n",
    "              'reg_all': [0.4]}\n",
    "gs = GridSearchCV(SVD, param_grid, measures=['rmse'], cv=3)\n",
    "gs.fit(data)\n",
    "\n",
    "# best RMSE score\n",
    "print(gs.best_score['rmse'])\n",
    "\n",
    "# combination of parameters that gave the best RMSE score\n",
    "print(gs.best_params['rmse'])"
   ]
  },
  {
   "cell_type": "code",
   "execution_count": 197,
   "metadata": {},
   "outputs": [
    {
     "name": "stdout",
     "output_type": "stream",
     "text": [
      "RMSE: 1.0195\n"
     ]
    },
    {
     "data": {
      "text/plain": [
       "1.0194742667613892"
      ]
     },
     "execution_count": 197,
     "metadata": {},
     "output_type": "execute_result"
    }
   ],
   "source": [
    "# 80/20 % split with k=50 factors\n",
    "\n",
    "trainset, testset = train_test_split(data, test_size=.20)\n",
    "algo = SVD()\n",
    "algo.n_factors=50\n",
    "algo.fit(trainset)\n",
    "predictions = algo.test(testset)\n",
    "\n",
    "accuracy.rmse(predictions)"
   ]
  },
  {
   "cell_type": "code",
   "execution_count": 64,
   "metadata": {},
   "outputs": [
    {
     "data": {
      "text/plain": [
       "{'test_rmse': array([1.0057343 , 1.00590485, 1.00414723, 1.00610889, 1.00656548]),\n",
       " 'train_rmse': array([0.95014636, 0.95113164, 0.95125446, 0.95076042, 0.95077297]),\n",
       " 'fit_time': (22.478854656219482,\n",
       "  22.728386402130127,\n",
       "  24.341591119766235,\n",
       "  25.603251218795776,\n",
       "  25.84378147125244),\n",
       " 'test_time': (2.7198452949523926,\n",
       "  2.6083309650421143,\n",
       "  2.649336338043213,\n",
       "  2.6043307781219482,\n",
       "  2.0342586040496826)}"
      ]
     },
     "execution_count": 64,
     "metadata": {},
     "output_type": "execute_result"
    }
   ],
   "source": [
    "from surprise.model_selection import cross_validate\n",
    "\n",
    "algo.n_epochs=10\n",
    "cross_validate(algo,data, measures=['rmse'], cv=5, return_train_measures=True)"
   ]
  },
  {
   "cell_type": "markdown",
   "metadata": {},
   "source": [
    "# 3. NMF Model"
   ]
  },
  {
   "cell_type": "code",
   "execution_count": 198,
   "metadata": {},
   "outputs": [
    {
     "name": "stdout",
     "output_type": "stream",
     "text": [
      "1.00378330181\n",
      "{'n_epochs': 50, 'n_factors': 2, 'biased': True, 'reg_pu': 0.06}\n"
     ]
    }
   ],
   "source": [
    "#first we're going to chose the compare some parameters such as k, learning rate\n",
    "#then we will do a cross_validation analysis\n",
    "\n",
    "from surprise.model_selection import GridSearchCV\n",
    "\n",
    "param_grid = {'n_epochs':[50],'n_factors':[2], 'biased': [True],'reg_pu':[0.06,0.1]}\n",
    "gs = GridSearchCV(NMF, param_grid, measures=['rmse'], cv=4)\n",
    "gs.fit(data)\n",
    "\n",
    "# best RMSE score\n",
    "print(gs.best_score['rmse'])\n",
    "\n",
    "# combination of parameters that gave the best RMSE score\n",
    "print(gs.best_params['rmse'])"
   ]
  },
  {
   "cell_type": "code",
   "execution_count": 36,
   "metadata": {},
   "outputs": [
    {
     "name": "stdout",
     "output_type": "stream",
     "text": [
      "RMSE: 1.0048\n"
     ]
    },
    {
     "data": {
      "text/plain": [
       "1.0048211848844557"
      ]
     },
     "execution_count": 36,
     "metadata": {},
     "output_type": "execute_result"
    }
   ],
   "source": [
    "trainset, testset = train_test_split(data, test_size=.50)\n",
    "algo = NMF()\n",
    "algo.n_factors=2\n",
    "algo.biased=True\n",
    "algo.fit(trainset)\n",
    "predictions = algo.test(testset)\n",
    "\n",
    "accuracy.rmse(predictions)"
   ]
  },
  {
   "cell_type": "markdown",
   "metadata": {},
   "source": [
    "# 4. Output submission "
   ]
  },
  {
   "cell_type": "markdown",
   "metadata": {},
   "source": [
    "## 4.1 Load and preprocessing of sampleSubmission"
   ]
  },
  {
   "cell_type": "code",
   "execution_count": 168,
   "metadata": {},
   "outputs": [
    {
     "data": {
      "text/html": [
       "<div>\n",
       "<style>\n",
       "    .dataframe thead tr:only-child th {\n",
       "        text-align: right;\n",
       "    }\n",
       "\n",
       "    .dataframe thead th {\n",
       "        text-align: left;\n",
       "    }\n",
       "\n",
       "    .dataframe tbody tr th {\n",
       "        vertical-align: top;\n",
       "    }\n",
       "</style>\n",
       "<table border=\"1\" class=\"dataframe\">\n",
       "  <thead>\n",
       "    <tr style=\"text-align: right;\">\n",
       "      <th></th>\n",
       "      <th>Id</th>\n",
       "      <th>Prediction</th>\n",
       "    </tr>\n",
       "  </thead>\n",
       "  <tbody>\n",
       "    <tr>\n",
       "      <th>0</th>\n",
       "      <td>r37_c1</td>\n",
       "      <td>3</td>\n",
       "    </tr>\n",
       "    <tr>\n",
       "      <th>1</th>\n",
       "      <td>r73_c1</td>\n",
       "      <td>3</td>\n",
       "    </tr>\n",
       "    <tr>\n",
       "      <th>2</th>\n",
       "      <td>r156_c1</td>\n",
       "      <td>3</td>\n",
       "    </tr>\n",
       "    <tr>\n",
       "      <th>3</th>\n",
       "      <td>r160_c1</td>\n",
       "      <td>3</td>\n",
       "    </tr>\n",
       "    <tr>\n",
       "      <th>4</th>\n",
       "      <td>r248_c1</td>\n",
       "      <td>3</td>\n",
       "    </tr>\n",
       "  </tbody>\n",
       "</table>\n",
       "</div>"
      ],
      "text/plain": [
       "        Id  Prediction\n",
       "0   r37_c1           3\n",
       "1   r73_c1           3\n",
       "2  r156_c1           3\n",
       "3  r160_c1           3\n",
       "4  r248_c1           3"
      ]
     },
     "execution_count": 168,
     "metadata": {},
     "output_type": "execute_result"
    }
   ],
   "source": [
    "sub_data = pd.read_csv('sampleSubmission.csv')\n",
    "sub_data.head()"
   ]
  },
  {
   "cell_type": "code",
   "execution_count": 136,
   "metadata": {
    "collapsed": true
   },
   "outputs": [],
   "source": [
    "sub_data1 = sub_data.copy()\n",
    "sub_data2 = sub_data.copy()\n",
    "\n",
    "sub_data1['Id'] = sub_data1['Id'].apply(lambda x: x.split('_')[0])\n",
    "sub_data2['Id'] = sub_data2['Id'].apply(lambda x: x.split('_')[1])\n",
    "sub_data1['user_Id'] = sub_data1['Id'].apply(lambda x: x.replace(\"r\",\"\"))\n",
    "sub_data2['item_Id'] = sub_data2['Id'].apply(lambda x: x.replace(\"c\",\"\"))"
   ]
  },
  {
   "cell_type": "code",
   "execution_count": 137,
   "metadata": {
    "scrolled": false
   },
   "outputs": [
    {
     "data": {
      "text/html": [
       "<div>\n",
       "<style>\n",
       "    .dataframe thead tr:only-child th {\n",
       "        text-align: right;\n",
       "    }\n",
       "\n",
       "    .dataframe thead th {\n",
       "        text-align: left;\n",
       "    }\n",
       "\n",
       "    .dataframe tbody tr th {\n",
       "        vertical-align: top;\n",
       "    }\n",
       "</style>\n",
       "<table border=\"1\" class=\"dataframe\">\n",
       "  <thead>\n",
       "    <tr style=\"text-align: right;\">\n",
       "      <th></th>\n",
       "      <th>user_Id</th>\n",
       "      <th>item_Id</th>\n",
       "      <th>Prediction</th>\n",
       "    </tr>\n",
       "  </thead>\n",
       "  <tbody>\n",
       "    <tr>\n",
       "      <th>0</th>\n",
       "      <td>37</td>\n",
       "      <td>1</td>\n",
       "      <td>3</td>\n",
       "    </tr>\n",
       "    <tr>\n",
       "      <th>1</th>\n",
       "      <td>73</td>\n",
       "      <td>1</td>\n",
       "      <td>3</td>\n",
       "    </tr>\n",
       "    <tr>\n",
       "      <th>2</th>\n",
       "      <td>156</td>\n",
       "      <td>1</td>\n",
       "      <td>3</td>\n",
       "    </tr>\n",
       "    <tr>\n",
       "      <th>3</th>\n",
       "      <td>160</td>\n",
       "      <td>1</td>\n",
       "      <td>3</td>\n",
       "    </tr>\n",
       "    <tr>\n",
       "      <th>4</th>\n",
       "      <td>248</td>\n",
       "      <td>1</td>\n",
       "      <td>3</td>\n",
       "    </tr>\n",
       "  </tbody>\n",
       "</table>\n",
       "</div>"
      ],
      "text/plain": [
       "  user_Id item_Id  Prediction\n",
       "0      37       1           3\n",
       "1      73       1           3\n",
       "2     156       1           3\n",
       "3     160       1           3\n",
       "4     248       1           3"
      ]
     },
     "execution_count": 137,
     "metadata": {},
     "output_type": "execute_result"
    }
   ],
   "source": [
    "sub_data_final = pd.concat([sub_data1['user_Id'],sub_data2['item_Id'],sub_data1['Prediction']],axis=1)\n",
    "sub_data_final.head()\n"
   ]
  },
  {
   "cell_type": "code",
   "execution_count": 138,
   "metadata": {
    "collapsed": true
   },
   "outputs": [],
   "source": [
    "reader = Reader(rating_scale=(1, 5))\n",
    "sub_dataset = Dataset.load_from_df(sub_data_final[['user_Id','item_Id', 'Prediction']], reader)"
   ]
  },
  {
   "cell_type": "markdown",
   "metadata": {},
   "source": [
    "## 4.2 Final Model"
   ]
  },
  {
   "cell_type": "code",
   "execution_count": 139,
   "metadata": {},
   "outputs": [
    {
     "data": {
      "text/plain": [
       "<surprise.prediction_algorithms.matrix_factorization.NMF at 0x204fc7be630>"
      ]
     },
     "execution_count": 139,
     "metadata": {},
     "output_type": "execute_result"
    }
   ],
   "source": [
    "fullset=data.build_full_trainset()\n",
    "final_algo = NMF()\n",
    "final_algo.n_factors=2\n",
    "final_algo.biased=True\n",
    "final_algo.fit(fullset)"
   ]
  },
  {
   "cell_type": "code",
   "execution_count": 142,
   "metadata": {
    "collapsed": true
   },
   "outputs": [],
   "source": [
    "sub_data_set = sub_dataset.build_full_trainset()\n",
    "pred = final_algo.test(sub_data_set.build_testset())"
   ]
  },
  {
   "cell_type": "markdown",
   "metadata": {},
   "source": [
    "## 4.3 Write output submission to CSV"
   ]
  },
  {
   "cell_type": "code",
   "execution_count": 167,
   "metadata": {
    "collapsed": true
   },
   "outputs": [],
   "source": [
    "import csv\n",
    "with open('submit.csv', 'w',newline='') as f:\n",
    "    writer = csv.writer(f)\n",
    "    writer.writerow(['Id','Prediction'])\n",
    "    for p in pred:\n",
    "        writer.writerow(['r'+p[0]+'_c'+p[1],round(p[3])])"
   ]
  }
 ],
 "metadata": {
  "kernelspec": {
   "display_name": "Python [default]",
   "language": "python",
   "name": "python3"
  },
  "language_info": {
   "codemirror_mode": {
    "name": "ipython",
    "version": 3
   },
   "file_extension": ".py",
   "mimetype": "text/x-python",
   "name": "python",
   "nbconvert_exporter": "python",
   "pygments_lexer": "ipython3",
   "version": "3.6.5"
  }
 },
 "nbformat": 4,
 "nbformat_minor": 2
}
