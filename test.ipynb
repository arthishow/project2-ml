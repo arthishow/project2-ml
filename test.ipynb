{
 "cells": [
  {
   "cell_type": "code",
   "execution_count": 1,
   "metadata": {
    "collapsed": true
   },
   "outputs": [],
   "source": [
    "import networkx as nx"
   ]
  },
  {
   "cell_type": "code",
   "execution_count": 2,
   "metadata": {
    "collapsed": true
   },
   "outputs": [],
   "source": [
    "G=nx.Graph()\n",
    "G.add_nodes_from([i for i in range(744)])"
   ]
  },
  {
   "cell_type": "code",
   "execution_count": 3,
   "metadata": {},
   "outputs": [
    {
     "name": "stdout",
     "output_type": "stream",
     "text": [
      "number of items: 1682, number of users: 943\n"
     ]
    }
   ],
   "source": [
    "from helpers import load_data, preprocess_data\n",
    "\n",
    "path_dataset = \"movielens100k.csv\"\n",
    "ratings = load_data(path_dataset)"
   ]
  },
  {
   "cell_type": "code",
   "execution_count": 4,
   "metadata": {},
   "outputs": [
    {
     "data": {
      "image/png": "[encoded data removed]",
      "text/plain": [
       "<matplotlib.figure.Figure at 0x1f96d8d96a0>"
      ]
     },
     "metadata": {},
     "output_type": "display_data"
    },
    {
     "name": "stdout",
     "output_type": "stream",
     "text": [
      "[451 131  90 ...,   1   1   1]\n"
     ]
    }
   ],
   "source": [
    "from plots import plot_raw_data\n",
    "num_items_per_user, num_users_per_item = plot_raw_data(ratings)\n",
    "print(num_users_per_item)"
   ]
  },
  {
   "cell_type": "code",
   "execution_count": 5,
   "metadata": {},
   "outputs": [
    {
     "name": "stdout",
     "output_type": "stream",
     "text": [
      "806\n"
     ]
    }
   ],
   "source": [
    "import numpy as np\n",
    "valid_users = np.where(num_items_per_user >= 30)[0]\n",
    "valid_items = np.where(num_users_per_item >= 30)[0]\n",
    "valid_ratings = ratings[valid_items, :][: , valid_users]  \n",
    "num_rows, num_cols = valid_ratings.shape\n",
    "print(num_rows)"
   ]
  },
  {
   "cell_type": "code",
   "execution_count": 8,
   "metadata": {
    "collapsed": true
   },
   "outputs": [],
   "source": [
    "trainarray=[]\n",
    "for user in range(num_cols):\n",
    "    pr=[]\n",
    "    for mov in range(num_rows):\n",
    "        pr.append(valid_ratings[mov,user])\n",
    "    trainarray.append(pr)"
   ]
  },
  {
   "cell_type": "code",
   "execution_count": 9,
   "metadata": {
    "collapsed": true
   },
   "outputs": [],
   "source": [
    "def hide(array,num):\n",
    "    c=0\n",
    "    hiding=[]\n",
    "    newarray=np.copy(array)\n",
    "    index=[]\n",
    "    x=np.shape(array)[0]\n",
    "    y=np.shape(array)[1]\n",
    "    while c<num:\n",
    "        i=np.random.randint(x) \n",
    "        j=np.random.randint(y) \n",
    "        u=newarray[i][j]\n",
    "        if u!=0:\n",
    "            hiding.append(u)\n",
    "            index.append([i,j])\n",
    "            newarray[i][j]=0\n",
    "            c+=1\n",
    "    return newarray,hiding,index"
   ]
  },
  {
   "cell_type": "code",
   "execution_count": 10,
   "metadata": {
    "collapsed": true
   },
   "outputs": [],
   "source": [
    "hided,a,b=hide(trainarray,9000)"
   ]
  },
  {
   "cell_type": "code",
   "execution_count": 211,
   "metadata": {
    "collapsed": true
   },
   "outputs": [],
   "source": [
    "import math\n",
    "def distance(i,j,arr,valN,G):\n",
    "    N=0\n",
    "    dist=0\n",
    "    arr1=arr[i]\n",
    "    arr2=arr[j]\n",
    "    for m in range(len(arr1)):\n",
    "        if arr1[m]!=0 and arr2[m]!=0:\n",
    "            dist+=(arr1[m]-arr2[m])**2\n",
    "            N+=1\n",
    "    if N>=valN and:\n",
    "        G.add_edge(i, j, weight=np.sqrt(dist/N))\n",
    "    return 0"
   ]
  },
  {
   "cell_type": "code",
   "execution_count": 212,
   "metadata": {
    "collapsed": true
   },
   "outputs": [],
   "source": [
    "def createGraph(array,valN):\n",
    "    G=nx.Graph()\n",
    "    G.add_nodes_from([i for i in range(744)])\n",
    "    l=0\n",
    "    for i in range(len(array)):\n",
    "        if i%100==0:\n",
    "            print(i)\n",
    "        for j in range(i+1,len(array)):\n",
    "            distance(i,j,array,valN,G)\n",
    "    print(G.number_of_edges())\n",
    "    return G"
   ]
  },
  {
   "cell_type": "code",
   "execution_count": 213,
   "metadata": {
    "collapsed": true
   },
   "outputs": [],
   "source": [
    "def countzero(array):\n",
    "    l=0\n",
    "    for i in range(len(array)):\n",
    "        for j in range(len(array[i])):\n",
    "            if array[i][j]==0:\n",
    "                l+=1\n",
    "    return l"
   ]
  },
  {
   "cell_type": "code",
   "execution_count": 222,
   "metadata": {},
   "outputs": [
    {
     "name": "stdout",
     "output_type": "stream",
     "text": [
      "0\n",
      "100\n",
      "200\n",
      "300\n",
      "400\n",
      "500\n",
      "600\n",
      "700\n",
      "130249\n"
     ]
    }
   ],
   "source": [
    "G=createGraph(hided,15)"
   ]
  },
  {
   "cell_type": "code",
   "execution_count": 280,
   "metadata": {},
   "outputs": [
    {
     "name": "stdout",
     "output_type": "stream",
     "text": [
      "[0, 372, 678]\n"
     ]
    }
   ],
   "source": [
    "ego=nx.ego_graph(G,0,radius=0.9,distance='weight')\n",
    "print(ego.nodes)"
   ]
  },
  {
   "cell_type": "code",
   "execution_count": 264,
   "metadata": {
    "collapsed": true
   },
   "outputs": [],
   "source": [
    "import time\n",
    "def computeval(G,arr,rad):\n",
    "    start = time.time()\n",
    "    nextarr=[]\n",
    "    for l in range(len(arr)):\n",
    "        if l%100==0:\n",
    "            print(l)\n",
    "        ego=nx.ego_graph(G,l,radius=rad,distance='weight')\n",
    "        x=np.shape(arr)[1]\n",
    "        mean=np.zeros(x)\n",
    "        n=np.zeros(x)\n",
    "        egolist=list(ego.adj[l])\n",
    "        zeros=[]\n",
    "        for k in range(x):\n",
    "            if arr[l][k]!=0:\n",
    "                mean[k]=arr[l][k]\n",
    "            else:\n",
    "                zeros.append(k)\n",
    "        for i in range(len(egolist)):\n",
    "            moy=arr[egolist[i]]\n",
    "            for z in zeros:\n",
    "                if moy[z]!=0:\n",
    "                        n[z]+=(1/ego[l][egolist[i]]['weight'])\n",
    "                        mean[z]=mean[z]+(1/ego[l][egolist[i]]['weight'])*(moy[z]**2)\n",
    "        for z in zeros:     \n",
    "            if n[z]!=0:\n",
    "                mean[z]=round(np.sqrt(mean[z]/n[z]))\n",
    "        nextarr.append(mean)\n",
    "    end = time.time()\n",
    "    elapsed = end - start\n",
    "    print(elapsed)\n",
    "    return nextarr"
   ]
  },
  {
   "cell_type": "code",
   "execution_count": 183,
   "metadata": {},
   "outputs": [
    {
     "name": "stdout",
     "output_type": "stream",
     "text": [
      "0\n",
      "100\n",
      "200\n",
      "300\n",
      "400\n",
      "500\n",
      "600\n",
      "700\n",
      "70988\n"
     ]
    }
   ],
   "source": [
    "arr=hided\n",
    "M=createGraph(arr,27)\n"
   ]
  },
  {
   "cell_type": "code",
   "execution_count": 176,
   "metadata": {
    "collapsed": true
   },
   "outputs": [],
   "source": [
    "def compute_err(arr):\n",
    "    l=0\n",
    "    n=0\n",
    "    nextarr=arr\n",
    "    for bi in range(len(b)):\n",
    "        if nextarr[b[bi][0]][b[bi][1]]!=0:\n",
    "            n+=1\n",
    "            l+=(a[bi]-nextarr[b[bi][0]][b[bi][1]])**2\n",
    "    print(n)\n",
    "    print(np.sqrt(l/n))"
   ]
  },
  {
   "cell_type": "code",
   "execution_count": 240,
   "metadata": {},
   "outputs": [
    {
     "name": "stdout",
     "output_type": "stream",
     "text": [
      "0\n",
      "100\n",
      "200\n",
      "300\n",
      "400\n",
      "500\n",
      "600\n",
      "700\n",
      "77826\n"
     ]
    }
   ],
   "source": [
    "G=createGraph(hided,25)\n",
    "\n"
   ]
  },
  {
   "cell_type": "code",
   "execution_count": 265,
   "metadata": {},
   "outputs": [
    {
     "name": "stdout",
     "output_type": "stream",
     "text": [
      "0\n",
      "100\n",
      "200\n",
      "300\n",
      "400\n",
      "500\n",
      "600\n",
      "700\n",
      "21.00188899040222\n",
      "6598\n",
      "11.9749030274\n"
     ]
    }
   ],
   "source": [
    "arri=computeval(G,hided,1)\n",
    "compute_err(arri)"
   ]
  },
  {
   "cell_type": "code",
   "execution_count": 245,
   "metadata": {},
   "outputs": [
    {
     "name": "stdout",
     "output_type": "stream",
     "text": [
      "0.2654096059283353\n"
     ]
    }
   ],
   "source": [
    "print(countzero(arri)/countzero(hided))"
   ]
  },
  {
   "cell_type": "code",
   "execution_count": null,
   "metadata": {
    "collapsed": true
   },
   "outputs": [],
   "source": [
    "\n",
    "0.969526592039"
   ]
  }
 ],
 "metadata": {
  "kernelspec": {
   "display_name": "Python 3",
   "language": "python",
   "name": "python3"
  },
  "language_info": {
   "codemirror_mode": {
    "name": "ipython",
    "version": 3
   },
   "file_extension": ".py",
   "mimetype": "text/x-python",
   "name": "python",
   "nbconvert_exporter": "python",
   "pygments_lexer": "ipython3",
   "version": "3.6.3"
  }
 },
 "nbformat": 4,
 "nbformat_minor": 2
}
