{
 "cells": [
  {
   "cell_type": "code",
   "execution_count": 81,
   "metadata": {
    "collapsed": true
   },
   "outputs": [],
   "source": [
    "from surprise import NMF\n",
    "from surprise import SVD\n",
    "import pandas as pd\n",
    "from surprise import Dataset\n",
    "from surprise import Reader"
   ]
  },
  {
   "cell_type": "code",
   "execution_count": 2,
   "metadata": {},
   "outputs": [
    {
     "name": "stdout",
     "output_type": "stream",
     "text": [
      "number of items: 10000, number of users: 1000\n"
     ]
    }
   ],
   "source": [
    "from helpers import load_data, preprocess_data\n",
    "\n",
    "path_dataset = \"training_set.csv\"\n",
    "ratings = load_data(path_dataset)"
   ]
  },
  {
   "cell_type": "code",
   "execution_count": 97,
   "metadata": {},
   "outputs": [
    {
     "name": "stdout",
     "output_type": "stream",
     "text": [
      "number of items: 10000, number of users: 1000\n"
     ]
    }
   ],
   "source": [
    "path_dataset = \"test.csv\"\n",
    "test= load_data(path_dataset)"
   ]
  },
  {
   "cell_type": "code",
   "execution_count": 3,
   "metadata": {
    "collapsed": true
   },
   "outputs": [],
   "source": [
    "user=[]\n",
    "item=[]\n",
    "rat=[]\n",
    "x,y=ratings.nonzero()\n",
    "for i in range(len(x)):\n",
    "    user.append(x[i])\n",
    "    item.append(y[i])\n",
    "    rat.append(ratings[x[i],y[i]])"
   ]
  },
  {
   "cell_type": "code",
   "execution_count": 8,
   "metadata": {
    "collapsed": true
   },
   "outputs": [],
   "source": [
    "rat_dict={'user_id': user, 'item_id':item,'rating':rat}\n",
    "df = pd.DataFrame(rat_dict)\n",
    "reader = Reader(rating_scale=(1, 5))"
   ]
  },
  {
   "cell_type": "code",
   "execution_count": 9,
   "metadata": {},
   "outputs": [],
   "source": [
    "data = Dataset.load_from_df(df[['user_id', 'item_id', 'rating']], reader)"
   ]
  },
  {
   "cell_type": "code",
   "execution_count": 10,
   "metadata": {
    "collapsed": true
   },
   "outputs": [],
   "source": [
    "trainset = data.build_full_trainset()"
   ]
  },
  {
   "cell_type": "code",
   "execution_count": 95,
   "metadata": {
    "collapsed": true
   },
   "outputs": [],
   "source": [
    "from surprise import KNNBasic\n",
    "algo = SVD()"
   ]
  },
  {
   "cell_type": "code",
   "execution_count": 92,
   "metadata": {},
   "outputs": [
    {
     "data": {
      "text/plain": [
       "<surprise.prediction_algorithms.matrix_factorization.NMF at 0x268dcb45be0>"
      ]
     },
     "execution_count": 92,
     "metadata": {},
     "output_type": "execute_result"
    }
   ],
   "source": [
    "algo.fit(trainset)"
   ]
  },
  {
   "cell_type": "code",
   "execution_count": 94,
   "metadata": {},
   "outputs": [
    {
     "name": "stdout",
     "output_type": "stream",
     "text": [
      "1.00916357255\n"
     ]
    }
   ],
   "source": [
    "import numpy as np\n",
    "std=0\n",
    "for i in range(len(x)):\n",
    "    pred = algo.predict(x[i],y[i])\n",
    "    std+=(ratings[x[i],y[i]]-round(pred[3]))**2\n",
    "print(np.sqrt(std/len(x)))"
   ]
  },
  {
   "cell_type": "code",
   "execution_count": 64,
   "metadata": {},
   "outputs": [
    {
     "name": "stdout",
     "output_type": "stream",
     "text": [
      "4.57239786966\n"
     ]
    }
   ],
   "source": [
    "print(pred[3])"
   ]
  },
  {
   "cell_type": "code",
   "execution_count": 96,
   "metadata": {},
   "outputs": [
    {
     "name": "stdout",
     "output_type": "stream",
     "text": [
      "Evaluating RMSE, MAE of algorithm SVD on 5 split(s).\n",
      "\n",
      "                  Fold 1  Fold 2  Fold 3  Fold 4  Fold 5  Mean    Std     \n",
      "RMSE (testset)    1.0254  1.0267  1.0308  1.0279  1.0270  1.0276  0.0018  \n",
      "MAE (testset)     0.8184  0.8197  0.8226  0.8206  0.8203  0.8203  0.0014  \n",
      "Fit time          73.80   78.28   78.86   77.01   75.76   76.74   1.82    \n",
      "Test time         4.71    3.83    3.20    3.82    3.59    3.83    0.50    \n"
     ]
    },
    {
     "data": {
      "text/plain": [
       "{'fit_time': (73.79575109481812,\n",
       "  78.27673673629761,\n",
       "  78.85821866989136,\n",
       "  77.01112008094788,\n",
       "  75.76452493667603),\n",
       " 'test_mae': array([ 0.81839038,  0.81970637,  0.82259924,  0.82056181,  0.82025138]),\n",
       " 'test_rmse': array([ 1.02540282,  1.02667381,  1.03078199,  1.0279449 ,  1.02695803]),\n",
       " 'test_time': (4.714359760284424,\n",
       "  3.830760955810547,\n",
       "  3.1974759101867676,\n",
       "  3.8247783184051514,\n",
       "  3.588407039642334)}"
      ]
     },
     "execution_count": 96,
     "metadata": {},
     "output_type": "execute_result"
    }
   ],
   "source": [
    "cross_validate(algo, data, measures=['RMSE', 'MAE'], cv=5, verbose=True)"
   ]
  },
  {
   "cell_type": "code",
   "execution_count": 33,
   "metadata": {
    "collapsed": true
   },
   "outputs": [],
   "source": [
    "from surprise.model_selection import cross_validate"
   ]
  },
  {
   "cell_type": "code",
   "execution_count": null,
   "metadata": {
    "collapsed": true
   },
   "outputs": [],
   "source": []
  }
 ],
 "metadata": {
  "kernelspec": {
   "display_name": "Python 3",
   "language": "python",
   "name": "python3"
  },
  "language_info": {
   "codemirror_mode": {
    "name": "ipython",
    "version": 3
   },
   "file_extension": ".py",
   "mimetype": "text/x-python",
   "name": "python",
   "nbconvert_exporter": "python",
   "pygments_lexer": "ipython3",
   "version": "3.6.3"
  }
 },
 "nbformat": 4,
 "nbformat_minor": 2
}
