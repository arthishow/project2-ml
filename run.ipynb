{
 "cells": [
  {
   "cell_type": "markdown",
   "metadata": {},
   "source": [
    "## Imports"
   ]
  },
  {
   "cell_type": "code",
   "execution_count": 68,
   "metadata": {},
   "outputs": [],
   "source": [
    "import csv\n",
    "import numpy as np\n",
    "import scipy as sp\n",
    "import pandas as pd\n",
    "from run_helpers import *\n",
    "from surprise import BaselineOnly, SVD, SVDpp, SlopeOne, NMF, KNNBaseline\n",
    "from surprise.model_selection import train_test_split"
   ]
  },
  {
   "cell_type": "markdown",
   "metadata": {},
   "source": [
    "## Loading data"
   ]
  },
  {
   "cell_type": "code",
   "execution_count": 18,
   "metadata": {},
   "outputs": [],
   "source": [
    "DATA_PATH = 'data/'\n",
    "original_dataset, _ = load_data_surprise(DATA_PATH + 'data_train.csv', 0)\n",
    "sample_dataset, _   = load_data_surprise(DATA_PATH + 'sampleSubmission.csv', 0)"
   ]
  },
  {
   "cell_type": "markdown",
   "metadata": {},
   "source": [
    "## Generating sets"
   ]
  },
  {
   "cell_type": "code",
   "execution_count": 19,
   "metadata": {},
   "outputs": [],
   "source": [
    "trainset, testset = train_test_split(original_dataset, test_size=.1, random_state=0)\n",
    "predset = sample_dataset.build_full_trainset().build_testset()\n",
    "realval_testset = [p[2] for p in testset]"
   ]
  },
  {
   "cell_type": "markdown",
   "metadata": {},
   "source": [
    "## Sub-models\n",
    "### Global mean"
   ]
  },
  {
   "cell_type": "code",
   "execution_count": 21,
   "metadata": {},
   "outputs": [],
   "source": [
    "GM_test, GM_pred = global_mean_pred(trainset,testset,predset)\n",
    "print(\"RMSE: \"+ str(calculate_rmse_round(realval_testset, GM_test.T)[0][0]))"
   ]
  },
  {
   "cell_type": "markdown",
   "metadata": {},
   "source": [
    "### User mean"
   ]
  },
  {
   "cell_type": "code",
   "execution_count": 29,
   "metadata": {},
   "outputs": [],
   "source": [
    "UserM_test, UserM_pred = user_mean_pred(trainset, testset, predset)\n",
    "print(\"RMSE: \"+ str(calculate_rmse_round(realval_testset, UserM_test.T)[0][0]))"
   ]
  },
  {
   "cell_type": "markdown",
   "metadata": {},
   "source": [
    "### Item mean"
   ]
  },
  {
   "cell_type": "code",
   "execution_count": 42,
   "metadata": {},
   "outputs": [],
   "source": [
    "ItemM_test, ItemM_pred = item_mean_pred(trainset, testset, predset)\n",
    "print(\"RMSE: \"+ str(calculate_rmse_round(realval_testset, ItemM_test.T)[0][0]))"
   ]
  },
  {
   "cell_type": "markdown",
   "metadata": {},
   "source": [
    "### Baseline"
   ]
  },
  {
   "cell_type": "code",
   "execution_count": 49,
   "metadata": {},
   "outputs": [
    {
     "name": "stdout",
     "output_type": "stream",
     "text": [
      "Estimating biases using als...\n"
     ]
    }
   ],
   "source": [
    "bsl_options = {'method': 'als',\n",
    "                   'n_epochs': 50,\n",
    "                   'reg_u': 10,\n",
    "                   'reg_i': 15\n",
    "               }\n",
    "Base_test, Base_pred = train_model(BaselineOnly(bsl_options=bsl_options), trainset, testset, predset)\n",
    "print(\"RMSE: \"+ str(calculate_rmse_round(realval_testset, Base_test.T)[0][0]))"
   ]
  },
  {
   "cell_type": "markdown",
   "metadata": {},
   "source": [
    "### Baseline SGD"
   ]
  },
  {
   "cell_type": "code",
   "execution_count": 51,
   "metadata": {},
   "outputs": [
    {
     "name": "stdout",
     "output_type": "stream",
     "text": [
      "Estimating biases using sgd...\n",
      "RMSE :1.0451830262952428\n"
     ]
    }
   ],
   "source": [
    "bsl_options = {'method': 'sgd'}\n",
    "Basesgd_test, Basesgd_pred = train_model(BaselineOnly(bsl_options=bsl_options), trainset, testset, predset)\n",
    "print(\"RMSE: \"+ str(calculate_rmse_round(realval_testset, Basesgd_test.T)[0][0]))"
   ]
  },
  {
   "cell_type": "markdown",
   "metadata": {},
   "source": [
    "### SVD"
   ]
  },
  {
   "cell_type": "code",
   "execution_count": 54,
   "metadata": {},
   "outputs": [
    {
     "name": "stdout",
     "output_type": "stream",
     "text": [
      "RMSE :1.0554927990941678\n"
     ]
    }
   ],
   "source": [
    "SVD_test, SVD_pred = train_model(SVD(n_factors=50, lr_all=0.005, random_state=1), trainset, testset, predset)\n",
    "print(\"RMSE: \"+ str(calculate_rmse_round(realval_testset, SVD_test.T)[0][0]))"
   ]
  },
  {
   "cell_type": "markdown",
   "metadata": {},
   "source": [
    "### SVD++"
   ]
  },
  {
   "cell_type": "code",
   "execution_count": 56,
   "metadata": {},
   "outputs": [
    {
     "name": "stdout",
     "output_type": "stream",
     "text": [
      "RMSE :1.0536881096457897\n"
     ]
    }
   ],
   "source": [
    "SVDpp_test, SVDpp_pred = train_model(SVDpp(random_state=1), trainset, testset, predset)\n",
    "print(\"RMSE: \"+ str(calculate_rmse_round(realval_testset, SVDpp_test.T)[0][0]))"
   ]
  },
  {
   "cell_type": "markdown",
   "metadata": {},
   "source": [
    "### SlopeOne"
   ]
  },
  {
   "cell_type": "code",
   "execution_count": 59,
   "metadata": {},
   "outputs": [
    {
     "name": "stdout",
     "output_type": "stream",
     "text": [
      "RMSE :1.0425458497499698\n"
     ]
    }
   ],
   "source": [
    "SlopeOne_test, SlopeOne_pred = train_model(SlopeOne(), trainset, testset, predset)\n",
    "print(\"RMSE: \"+ str(calculate_rmse_round(realval_testset, SlopeOne_test.T)[0][0]))"
   ]
  },
  {
   "cell_type": "markdown",
   "metadata": {},
   "source": [
    "### NMF"
   ]
  },
  {
   "cell_type": "code",
   "execution_count": 62,
   "metadata": {},
   "outputs": [
    {
     "name": "stdout",
     "output_type": "stream",
     "text": [
      "RMSE :1.0447195611225344\n"
     ]
    }
   ],
   "source": [
    "NMF_test, NMF_pred = train_model(NMF(biased=True, n_factors=7, random_state=1), trainset, testset, predset)\n",
    "print(\"RMSE: \"+ str(calculate_rmse_round(realval_testset, NMF_test.T)[0][0]))"
   ]
  },
  {
   "cell_type": "markdown",
   "metadata": {},
   "source": [
    "### KNN User based"
   ]
  },
  {
   "cell_type": "code",
   "execution_count": 64,
   "metadata": {},
   "outputs": [
    {
     "name": "stdout",
     "output_type": "stream",
     "text": [
      "Estimating biases using als...\n",
      "Computing the msd similarity matrix...\n",
      "Done computing similarity matrix.\n",
      "RMSE: 1.0527644284531106\n"
     ]
    }
   ],
   "source": [
    "KNNu_test, KNNu_pred = train_model(KNNBaseline(k=30), trainset, testset, predset)\n",
    "print(\"RMSE: \"+ str(calculate_rmse_round(realval_testset, KNNu_test.T)[0][0]))"
   ]
  },
  {
   "cell_type": "markdown",
   "metadata": {},
   "source": [
    "### KNN Item based"
   ]
  },
  {
   "cell_type": "code",
   "execution_count": 65,
   "metadata": {},
   "outputs": [
    {
     "name": "stdout",
     "output_type": "stream",
     "text": [
      "Estimating biases using als...\n",
      "Computing the msd similarity matrix...\n",
      "Done computing similarity matrix.\n",
      "RMSE: 1.0372595733528975\n"
     ]
    }
   ],
   "source": [
    "sim_options = {'user_based': False} #compute similarities between items\n",
    "KNNi_test, KNNi_pred = train_model(KNNBaseline(k=30, sim_options=sim_options), trainset, testset, predset)\n",
    "print(\"RMSE: \"+ str(calculate_rmse_round(realval_testset, KNNi_test.T)[0][0]))"
   ]
  },
  {
   "cell_type": "markdown",
   "metadata": {},
   "source": [
    "## Final model"
   ]
  },
  {
   "cell_type": "code",
   "execution_count": 66,
   "metadata": {},
   "outputs": [],
   "source": [
    "pred = np.concatenate((GM_test, UserM_test, ItemM_test, Base_test, Basesgd_test, SVD_test, SVDpp_test, SlopeOne_test, KNNu_test, KNNi_test, NMF_test), axis=1)"
   ]
  },
  {
   "cell_type": "code",
   "execution_count": 69,
   "metadata": {},
   "outputs": [],
   "source": [
    "theta = coeff(pred, realval_testset)"
   ]
  },
  {
   "cell_type": "markdown",
   "metadata": {},
   "source": [
    "## Prediction"
   ]
  },
  {
   "cell_type": "code",
   "execution_count": 70,
   "metadata": {},
   "outputs": [],
   "source": [
    "pred_t = np.concatenate((GM_pred, UserM_pred, ItemM_pred, Base_pred, Basesgd_pred, SVD_pred, SVDpp_pred, SlopeOne_pred, KNNu_pred, KNNi_pred, NMF_pred), axis=1)"
   ]
  },
  {
   "cell_type": "code",
   "execution_count": 71,
   "metadata": {},
   "outputs": [],
   "source": [
    "pred_pound = theta@pred_t.T\n",
    "pred_final = []\n",
    "for p in pred_pound:\n",
    "    r = round(p)\n",
    "    if r > 5:\n",
    "        r = 5\n",
    "    if r < 1:\n",
    "        r = 1\n",
    "    pred_final.append(r)"
   ]
  },
  {
   "cell_type": "markdown",
   "metadata": {},
   "source": [
    "## Output"
   ]
  },
  {
   "cell_type": "code",
   "execution_count": 72,
   "metadata": {},
   "outputs": [],
   "source": [
    "with open('submission.csv', 'w', newline='') as f:\n",
    "    writer = csv.writer(f)\n",
    "    writer.writerow(['Id', 'Prediction'])\n",
    "    for i in range(len(predset)):\n",
    "        writer.writerow([predset[i][0] + '_' + predset[i][1], pred_final[i]])"
   ]
  },
  {
   "cell_type": "code",
   "execution_count": null,
   "metadata": {},
   "outputs": [],
   "source": []
  }
 ],
 "metadata": {
  "kernelspec": {
   "display_name": "Python [default]",
   "language": "python",
   "name": "python3"
  },
  "language_info": {
   "codemirror_mode": {
    "name": "ipython",
    "version": 3
   },
   "file_extension": ".py",
   "mimetype": "text/x-python",
   "name": "python",
   "nbconvert_exporter": "python",
   "pygments_lexer": "ipython3",
   "version": "3.6.5"
  }
 },
 "nbformat": 4,
 "nbformat_minor": 2
}
