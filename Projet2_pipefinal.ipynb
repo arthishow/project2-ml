{
 "cells": [
  {
   "cell_type": "code",
   "execution_count": 4,
   "metadata": {},
   "outputs": [
    {
     "name": "stdout",
     "output_type": "stream",
     "text": [
      "The autoreload extension is already loaded. To reload it, use:\n",
      "  %reload_ext autoreload\n"
     ]
    }
   ],
   "source": [
    "import numpy as np\n",
    "import pandas as pd\n",
    "import scipy as sp\n",
    "import matplotlib.pyplot as plt\n",
    "from surprise import *\n",
    "from surprise import NormalPredictor\n",
    "from surprise import Dataset\n",
    "from surprise import Reader\n",
    "from surprise.model_selection import cross_validate\n",
    "from surprise import SVD\n",
    "from surprise import SVDpp\n",
    "from surprise import NMF\n",
    "from surprise import KNNBaseline\n",
    "from surprise import accuracy\n",
    "from surprise import BaselineOnly\n",
    "from surprise.model_selection import train_test_split\n",
    "from helpers import *\n",
    "from surprise.model_selection import GridSearchCV\n",
    "%matplotlib inline\n",
    "%load_ext autoreload\n",
    "%autoreload 2"
   ]
  },
  {
   "cell_type": "markdown",
   "metadata": {},
   "source": [
    "# Data loading"
   ]
  },
  {
   "cell_type": "code",
   "execution_count": 5,
   "metadata": {
    "collapsed": true
   },
   "outputs": [],
   "source": [
    "from helpers import *\n",
    "\n",
    "DATA_PATH = 'data/'\n",
    "dataset_base, dataframe = load_data_surprise(DATA_PATH + 'data_train.csv',0)"
   ]
  },
  {
   "cell_type": "code",
   "execution_count": 6,
   "metadata": {
    "collapsed": true
   },
   "outputs": [],
   "source": [
    "from surprise.model_selection import train_test_split\n",
    "trainset, testset = train_test_split(dataset_base, test_size=.1,random_state=0)\n",
    "sample_dataset, sample_dataframe = load_data_surprise(DATA_PATH + 'sampleSubmission.csv',0)\n",
    "predset = sample_dataset.build_full_trainset().build_testset()\n",
    "realval_testset = [p[2] for p in testset]"
   ]
  },
  {
   "cell_type": "code",
   "execution_count": 7,
   "metadata": {},
   "outputs": [
    {
     "name": "stdout",
     "output_type": "stream",
     "text": [
      "RMSE :1.1272860586714628\n"
     ]
    }
   ],
   "source": [
    "GM_test,GM_pred = global_mean_pred(trainset,testset,predset)\n",
    "print(\"RMSE :\"+ str(calculate_rmse_round(realval_testset,GM_test.T)[0][0]))"
   ]
  },
  {
   "cell_type": "code",
   "execution_count": 8,
   "metadata": {},
   "outputs": [
    {
     "name": "stdout",
     "output_type": "stream",
     "text": [
      "RMSE :1.1177375701359025\n",
      "RMSE :1.0700549858059532\n"
     ]
    }
   ],
   "source": [
    "UserM_test,UserM_pred =user_mean_pred(trainset,testset,predset)\n",
    "print(\"RMSE :\"+ str(calculate_rmse_round(realval_testset,UserM_test.T)[0][0]))\n",
    "ItemM_test,ItemM_pred =item_mean_pred(trainset,testset,predset)\n",
    "print(\"RMSE :\"+ str(calculate_rmse_round(realval_testset,ItemM_test.T)[0][0]))"
   ]
  },
  {
   "cell_type": "code",
   "execution_count": 9,
   "metadata": {},
   "outputs": [
    {
     "name": "stdout",
     "output_type": "stream",
     "text": [
      "Fit model...\n",
      "Estimating biases using als...\n",
      "Make predictions...\n",
      "RMSE :1.041290035228425\n"
     ]
    }
   ],
   "source": [
    "bsl_options = {'method': 'als',\n",
    "                   'n_epochs': 50,\n",
    "                   'reg_u': 10,\n",
    "                   'reg_i': 15\n",
    "               }\n",
    "\n",
    "Base_test,Base_pred=train_model(BaselineOnly(bsl_options=bsl_options),trainset,testset,predset)\n",
    "print(\"RMSE :\"+ str(calculate_rmse_round(realval_testset,Base_test.T)[0][0]))"
   ]
  },
  {
   "cell_type": "code",
   "execution_count": 48,
   "metadata": {},
   "outputs": [
    {
     "name": "stdout",
     "output_type": "stream",
     "text": [
      "Fit model...\n",
      "Estimating biases using sgd...\n",
      "Make predictions...\n",
      "RMSE :1.0451830262952428\n"
     ]
    }
   ],
   "source": [
    "bsl_options = {'method': 'sgd'}\n",
    "\n",
    "Basesgd_test,Basesgd_pred=train_model(BaselineOnly(bsl_options=bsl_options),trainset,testset,predset)\n",
    "print(\"RMSE :\"+ str(calculate_rmse_round(realval_testset,Basesgd_test.T)[0][0]))"
   ]
  },
  {
   "cell_type": "code",
   "execution_count": 53,
   "metadata": {},
   "outputs": [
    {
     "name": "stdout",
     "output_type": "stream",
     "text": [
      "Fit model...\n",
      "Make predictions...\n",
      "RMSE :1.0554927990941678\n"
     ]
    }
   ],
   "source": [
    "SVD_test,SVD_pred = train_model(SVD(n_factors=50,lr_all=0.005,random_state=1),trainset,testset,predset)\n",
    "print(\"RMSE :\"+ str(calculate_rmse_round(realval_testset,SVD_test.T)[0][0]))"
   ]
  },
  {
   "cell_type": "code",
   "execution_count": 13,
   "metadata": {},
   "outputs": [
    {
     "name": "stdout",
     "output_type": "stream",
     "text": [
      "Fit model...\n",
      "Make predictions...\n",
      "RMSE :1.0536881096457897\n"
     ]
    }
   ],
   "source": [
    "SVDpp_test,SVDpp_pred=train_model(SVDpp(random_state=1),trainset,testset,predset)\n",
    "print(\"RMSE :\"+ str(calculate_rmse_round(realval_testset,SVDpp_test.T)[0][0]))"
   ]
  },
  {
   "cell_type": "code",
   "execution_count": 14,
   "metadata": {},
   "outputs": [
    {
     "name": "stdout",
     "output_type": "stream",
     "text": [
      "Fit model...\n",
      "Make predictions...\n",
      "RMSE :1.0425458497499698\n"
     ]
    }
   ],
   "source": [
    "SlopeOne_test,SlopeOne_pred=train_model(SlopeOne(),trainset,testset,predset)\n",
    "print(\"RMSE :\"+ str(calculate_rmse_round(realval_testset,SlopeOne_test.T)[0][0]))"
   ]
  },
  {
   "cell_type": "code",
   "execution_count": null,
   "metadata": {},
   "outputs": [
    {
     "name": "stdout",
     "output_type": "stream",
     "text": [
      "Fit model...\n"
     ]
    }
   ],
   "source": [
    "NMF_test,NMF_pred=train_model(NMF(biased=True,n_factors=7,random_state=1),trainset,testset,predset)\n",
    "print(\"RMSE :\"+ str(calculate_rmse_round(realval_testset,NMF_test.T)[0][0]))"
   ]
  },
  {
   "cell_type": "code",
   "execution_count": 16,
   "metadata": {},
   "outputs": [
    {
     "name": "stdout",
     "output_type": "stream",
     "text": [
      "Fit model...\n",
      "Estimating biases using als...\n",
      "Computing the msd similarity matrix...\n",
      "Done computing similarity matrix.\n",
      "Make predictions...\n",
      "RMSE :1.0527644284531106\n"
     ]
    }
   ],
   "source": [
    "KNNu_test,KNNu_pred=train_model(KNNBaseline(k=30),trainset,testset,predset)\n",
    "print(\"RMSE :\"+ str(calculate_rmse_round(realval_testset,KNNu_test.T)[0][0]))"
   ]
  },
  {
   "cell_type": "code",
   "execution_count": 17,
   "metadata": {},
   "outputs": [
    {
     "name": "stdout",
     "output_type": "stream",
     "text": [
      "Fit model...\n",
      "Estimating biases using als...\n",
      "Computing the msd similarity matrix...\n",
      "Done computing similarity matrix.\n",
      "Make predictions...\n",
      "RMSE :1.0372595733528975\n"
     ]
    }
   ],
   "source": [
    "sim_options = {'user_based': False  # compute  similarities between items\n",
    "               }\n",
    "KNNi_test,KNNi_pred=train_model(KNNBaseline(k=30,sim_options=sim_options),trainset,testset,predset)\n",
    "print(\"RMSE :\"+ str(calculate_rmse_round(realval_testset,KNNi_test.T)[0][0]))"
   ]
  },
  {
   "cell_type": "code",
   "execution_count": 75,
   "metadata": {
    "collapsed": true
   },
   "outputs": [],
   "source": [
    "pred=np.concatenate((GM_test,UserM_test,Base_test,Basesgd_test,SVD_test,SVDpp_test,SlopeOne_test,KNNu_test,KNNi_test,NMF_test),axis=1)"
   ]
  },
  {
   "cell_type": "code",
   "execution_count": 76,
   "metadata": {},
   "outputs": [
    {
     "name": "stdout",
     "output_type": "stream",
     "text": [
      "[ 0.09623969 -0.09286618 -0.0824033  -0.44546868  0.17419018  0.31015904\n",
      "  0.58216986  0.11737435  0.3485882  -0.00851098]\n"
     ]
    }
   ],
   "source": [
    "x=coeff(pred,realval_testset)\n",
    "print(x)"
   ]
  },
  {
   "cell_type": "code",
   "execution_count": 77,
   "metadata": {},
   "outputs": [
    {
     "data": {
      "text/plain": [
       "1.0271845379681213"
      ]
     },
     "execution_count": 77,
     "metadata": {},
     "output_type": "execute_result"
    }
   ],
   "source": [
    "calculate_poud_rmse_round(x,realval_testset,pred.T)"
   ]
  },
  {
   "cell_type": "code",
   "execution_count": 57,
   "metadata": {},
   "outputs": [],
   "source": [
    "pred_t=np.concatenate((GM_pred,UserM_pred,Base_pred,Basesgd_pred,SVD_pred,SVDpp_pred,SlopeOne_pred,KNNu_pred,KNNi_pred,NMF_pred),axis=1)"
   ]
  },
  {
   "cell_type": "code",
   "execution_count": 58,
   "metadata": {
    "collapsed": true
   },
   "outputs": [],
   "source": [
    "pred_pound=x@pred_t.T\n",
    "pred_final=[]\n",
    "for p in pred_pound:\n",
    "    r=round(p)\n",
    "    if r>5:\n",
    "        r=5\n",
    "    if r<1:\n",
    "        r=1\n",
    "    pred_final.append(r)"
   ]
  },
  {
   "cell_type": "markdown",
   "metadata": {},
   "source": [
    "## 4.3 Write output submission to CSV"
   ]
  },
  {
   "cell_type": "code",
   "execution_count": 59,
   "metadata": {
    "collapsed": true
   },
   "outputs": [],
   "source": [
    "import csv\n",
    "with open('submission.csv', 'w', newline='') as f:\n",
    "    writer = csv.writer(f)\n",
    "    writer.writerow(['Id', 'Prediction'])\n",
    "    for i in range(len(predset)):\n",
    "        writer.writerow([predset[i][0] + '_' + predset[i][1], pred_final[i]])"
   ]
  },
  {
   "cell_type": "markdown",
   "metadata": {},
   "source": [
    "# 5.Analyse Submission"
   ]
  },
  {
   "cell_type": "code",
   "execution_count": 60,
   "metadata": {
    "collapsed": true
   },
   "outputs": [],
   "source": [
    "sub_dataset, sub_dataframe = load_data_surprise('submission.csv',0)\n"
   ]
  },
  {
   "cell_type": "code",
   "execution_count": 61,
   "metadata": {},
   "outputs": [
    {
     "name": "stdout",
     "output_type": "stream",
     "text": [
      "Prediction\n",
      "1.0    0.000169\n",
      "2.0    0.012051\n",
      "3.0    0.230218\n",
      "4.0    0.653010\n",
      "5.0    0.104551\n",
      "dtype: float64\n"
     ]
    }
   ],
   "source": [
    "g   = sub_dataframe.groupby('Prediction')\n",
    "num_sub = g.apply(lambda x: len(x)/len(sub_dataframe))\n",
    "print(num_sub)"
   ]
  },
  {
   "cell_type": "code",
   "execution_count": null,
   "metadata": {
    "collapsed": true
   },
   "outputs": [],
   "source": []
  }
 ],
 "metadata": {
  "kernelspec": {
   "display_name": "Python 3",
   "language": "python",
   "name": "python3"
  },
  "language_info": {
   "codemirror_mode": {
    "name": "ipython",
    "version": 3
   },
   "file_extension": ".py",
   "mimetype": "text/x-python",
   "name": "python",
   "nbconvert_exporter": "python",
   "pygments_lexer": "ipython3",
   "version": "3.6.3"
  }
 },
 "nbformat": 4,
 "nbformat_minor": 2
}
